{
 "cells": [
  {
   "cell_type": "markdown",
   "id": "b44b02f8",
   "metadata": {},
   "source": [
    "# Importing Libraries"
   ]
  },
  {
   "cell_type": "code",
   "execution_count": null,
   "id": "857418be",
   "metadata": {},
   "outputs": [],
   "source": [
    "import pandas as pd\n",
    "import csv\n",
    "import random\n",
    "import torch\n",
    "import numpy as np\n",
    "from math import sqrt\n",
    "from sklearn.metrics import mean_squared_error, mean_absolute_error\n",
    "from sklearn.tree import DecisionTreeRegressor, export_graphviz\n",
    "from sklearn.ensemble import RandomForestRegressor\n",
    "from sklearn.model_selection import train_test_split"
   ]
  },
  {
   "cell_type": "code",
   "execution_count": null,
   "id": "51ebcb39",
   "metadata": {},
   "outputs": [],
   "source": [
    "data = pd.read_csv(\"6D_old_Dataset.csv\")"
   ]
  },
  {
   "cell_type": "code",
   "execution_count": null,
   "id": "da5416f6",
   "metadata": {},
   "outputs": [],
   "source": [
    "data"
   ]
  },
  {
   "cell_type": "code",
   "execution_count": null,
   "id": "b93560de",
   "metadata": {},
   "outputs": [],
   "source": [
    "data = data.drop(data.columns[0],axis = 1)"
   ]
  },
  {
   "cell_type": "code",
   "execution_count": null,
   "id": "56b64300",
   "metadata": {},
   "outputs": [],
   "source": [
    "data.info()"
   ]
  },
  {
   "cell_type": "code",
   "execution_count": null,
   "id": "120c5135",
   "metadata": {},
   "outputs": [],
   "source": [
    "l = []\n",
    "d = [0,1,2,3,4,5,6,7,8,9]\n",
    "for i in range(50000):\n",
    "    k = [0,0,0,0,0,0,0,0,0,0]\n",
    "    v = random.randint(100000,999999)\n",
    "    k.append(v)\n",
    "    while v > 0:\n",
    "        a = v%10\n",
    "        k[a]+=1\n",
    "        v//=10\n",
    "    l.append(k)"
   ]
  },
  {
   "cell_type": "code",
   "execution_count": null,
   "id": "63a26232",
   "metadata": {},
   "outputs": [],
   "source": [
    "l = pd.DataFrame(l)\n",
    "l.columns = [\"Count of digit 0\", \"Count of digit 1\", \"Count of digit 2\", \"Count of digit 3\", \"Count of digit 4\", \"Count of digit 5\", \"Count of digit 6\", \"Count of digit 7\",\"Count of digit 8\",\"Count of digit 9\",\"Number\"]"
   ]
  },
  {
   "cell_type": "code",
   "execution_count": null,
   "id": "226af4cc",
   "metadata": {},
   "outputs": [],
   "source": [
    "data = pd.concat([data,l],axis = 0)"
   ]
  },
  {
   "cell_type": "markdown",
   "id": "c21a2515",
   "metadata": {},
   "source": [
    "# ML Models on Original Dataset"
   ]
  },
  {
   "cell_type": "code",
   "execution_count": null,
   "id": "724c0e3f",
   "metadata": {},
   "outputs": [],
   "source": [
    "#Accuracy Method\n",
    "def acc(preds,test):\n",
    "    ctr = 0\n",
    "    for i in range(len(preds)):\n",
    "        for j in range(10):\n",
    "            t = float(preds[i][j])\n",
    "            if t < 0: \n",
    "                t = 0\n",
    "            elif t > 6: \n",
    "                t = 6\n",
    "            else: \n",
    "                t = round(t)\n",
    "            if t == test.iloc[i][j]:\n",
    "                ctr+=1\n",
    "    acc = ctr/300000\n",
    "    return acc"
   ]
  },
  {
   "cell_type": "code",
   "execution_count": null,
   "id": "58f7d6a3",
   "metadata": {},
   "outputs": [],
   "source": [
    "from torch import tensor"
   ]
  },
  {
   "cell_type": "code",
   "execution_count": null,
   "id": "46b6ecfa",
   "metadata": {},
   "outputs": [],
   "source": [
    "x = tensor(data['Number'].values, dtype = torch.long)\n",
    "ind_columns = [\"Count of digit 0\", \"Count of digit 1\", \"Count of digit 2\", \"Count of digit 3\", \"Count of digit 4\", \"Count of digit 5\", \"Count of digit 6\", \"Count of digit 7\",\"Count of digit 8\",\"Count of digit 9\"]\n",
    "y = tensor(data[ind_columns].values, dtype = int)"
   ]
  },
  {
   "cell_type": "code",
   "execution_count": null,
   "id": "c3df687a",
   "metadata": {},
   "outputs": [],
   "source": [
    "data = data.dropna(axis = 1)"
   ]
  },
  {
   "cell_type": "code",
   "execution_count": null,
   "id": "51409b3e",
   "metadata": {},
   "outputs": [],
   "source": [
    "from fast_ml.model_development import train_valid_test_split\n",
    "x_train, y_train, x_val, y_val, x_test, y_test = train_valid_test_split(data, target = [\"Count of digit 0\", \"Count of digit 1\", \"Count of digit 2\", \"Count of digit 3\", \"Count of digit 4\", \"Count of digit 5\", \"Count of digit 6\", \"Count of digit 7\",\"Count of digit 8\",\"Count of digit 9\"], train_size=0.6, valid_size=0.2, test_size=0.2)"
   ]
  },
  {
   "cell_type": "code",
   "execution_count": null,
   "id": "fe14df82",
   "metadata": {},
   "outputs": [],
   "source": [
    "x_trn = tensor(x_train.values, dtype=int)\n",
    "y_trn = tensor(y_train.values, dtype=int)\n",
    "x_val = tensor(x_val.values, dtype=int)\n",
    "y_val = tensor(y_val.values, dtype=int)\n",
    "x_test = tensor(x_test.values, dtype=int)\n",
    "y_test = tensor(y_test.values, dtype=int)"
   ]
  },
  {
   "cell_type": "code",
   "execution_count": null,
   "id": "9ec5c9dc",
   "metadata": {},
   "outputs": [],
   "source": [
    "x_test.shape"
   ]
  },
  {
   "cell_type": "code",
   "execution_count": null,
   "id": "d2f81c48",
   "metadata": {},
   "outputs": [],
   "source": [
    "model=DecisionTreeRegressor()\n",
    "model.fit(x_train,y_train)\n",
    "predict = model.predict(x_val)\n",
    "rmse = sqrt(mean_squared_error(y_val, predict))\n",
    "print(\"RMSE: \" + str(rmse))"
   ]
  },
  {
   "cell_type": "code",
   "execution_count": null,
   "id": "be4358bd",
   "metadata": {},
   "outputs": [],
   "source": [
    "model.predict([[999999]]) #[0., 0., 0., 0., 0., 0., 0., 1., 0., 5.]"
   ]
  },
  {
   "cell_type": "code",
   "execution_count": null,
   "id": "a94e4f4e",
   "metadata": {},
   "outputs": [],
   "source": [
    "model.predict([[999998]]) #[0., 0., 0., 0., 0., 0., 0., 1., 0., 5.]"
   ]
  },
  {
   "cell_type": "code",
   "execution_count": null,
   "id": "283d9af7",
   "metadata": {},
   "outputs": [],
   "source": [
    "model.predict([[100000]]) #[4., 2., 0., 0., 0., 0., 0., 0., 0., 0.]"
   ]
  },
  {
   "cell_type": "code",
   "execution_count": null,
   "id": "f3a8d33e",
   "metadata": {},
   "outputs": [],
   "source": [
    "model.predict([[100001]]) #[4., 2., 0., 0., 0., 0., 0., 0., 0., 0.]"
   ]
  },
  {
   "cell_type": "code",
   "execution_count": null,
   "id": "cad46f70",
   "metadata": {},
   "outputs": [],
   "source": [
    "import graphviz\n",
    "from IPython.display import display\n",
    "m = DecisionTreeRegressor(max_leaf_nodes=4).fit(x_trn,y_trn)\n",
    "display(graphviz.Source(export_graphviz(m)))"
   ]
  },
  {
   "cell_type": "code",
   "execution_count": null,
   "id": "63762425",
   "metadata": {},
   "outputs": [],
   "source": [
    "data = pd.read_csv(\"6D_renew_dataset.csv\")\n",
    "data = data.iloc[:,1:]\n",
    "data"
   ]
  },
  {
   "cell_type": "code",
   "execution_count": null,
   "id": "c355446e",
   "metadata": {},
   "outputs": [],
   "source": [
    "model.get_n_leaves()"
   ]
  },
  {
   "cell_type": "code",
   "execution_count": null,
   "id": "372554b0",
   "metadata": {},
   "outputs": [],
   "source": [
    "model=DecisionTreeRegressor()\n",
    "model.fit(x_trn,y_trn)\n",
    "predict = model.predict(x_val)\n",
    "mae = mean_absolute_error(y_val, predict)\n",
    "print(\"MAE: \" + str(mae))"
   ]
  },
  {
   "cell_type": "code",
   "execution_count": null,
   "id": "a3ee6d54",
   "metadata": {},
   "outputs": [],
   "source": [
    "model=DecisionTreeRegressor()\n",
    "model.fit(x_trn,y_trn)\n",
    "predict = model.predict(x_val)\n",
    "acc = acc(predict,y_val)\n",
    "print(\"Accuracy: \" + str(acc))"
   ]
  },
  {
   "cell_type": "code",
   "execution_count": null,
   "id": "e86f3c71",
   "metadata": {},
   "outputs": [],
   "source": [
    "model=RandomForestRegressor()\n",
    "model.fit(x_trn,y_trn)\n",
    "predict = model.predict(x_val)\n",
    "rmse = sqrt(mean_squared_error(y_val, predict))\n",
    "print(\"RMSE: \" + str(rmse))"
   ]
  },
  {
   "cell_type": "code",
   "execution_count": null,
   "id": "18ef8a68",
   "metadata": {
    "scrolled": true
   },
   "outputs": [],
   "source": [
    "model.predict([[999999]]) #[0.13, 0.  , 0.  , 0.  , 0.  , 0.  , 0.2 , 0.67, 0.03, 4.97]"
   ]
  },
  {
   "cell_type": "code",
   "execution_count": null,
   "id": "17ea0886",
   "metadata": {
    "scrolled": false
   },
   "outputs": [],
   "source": [
    "model.predict([[999998]]) #[0.13, 0.  , 0.  , 0.  , 0.  , 0.  , 0.2 , 0.67, 0.03, 4.97]"
   ]
  },
  {
   "cell_type": "code",
   "execution_count": null,
   "id": "e88d7db9",
   "metadata": {
    "scrolled": true
   },
   "outputs": [],
   "source": [
    "model.predict([[100000]]) #[3.99, 1.67, 0.22, 0.  , 0.09, 0.  , 0.  , 0.  , 0.02, 0.01]"
   ]
  },
  {
   "cell_type": "code",
   "execution_count": null,
   "id": "2c78d8a4",
   "metadata": {},
   "outputs": [],
   "source": [
    "model.predict([[100001]]) #[3.99, 1.67, 0.22, 0.  , 0.09, 0.  , 0.  , 0.  , 0.02, 0.01]"
   ]
  },
  {
   "cell_type": "code",
   "execution_count": null,
   "id": "e737385f",
   "metadata": {},
   "outputs": [],
   "source": [
    "model=RandomForestRegressor()\n",
    "model.fit(x_trn,y_trn)\n",
    "predict = model.predict(x_val)\n",
    "mae = mean_absolute_error(y_val, predict)\n",
    "print(\"MAE: \" + str(mae))"
   ]
  },
  {
   "cell_type": "code",
   "execution_count": null,
   "id": "0effcdd0",
   "metadata": {},
   "outputs": [],
   "source": [
    "model=RandomForestRegressor()\n",
    "model.fit(x_trn,y_trn)\n",
    "predict = model.predict(x_val)\n",
    "acc = acc(predict,y_val)\n",
    "print(\"Accuracy: \" + str(acc))"
   ]
  },
  {
   "cell_type": "code",
   "execution_count": null,
   "id": "3f126c0c",
   "metadata": {},
   "outputs": [],
   "source": [
    "model=DecisionTreeRegressor()\n",
    "model.fit(x_trn,y_trn)\n",
    "predict = model.predict(x_test)\n",
    "rmse = sqrt(mean_squared_error(y_test, predict))\n",
    "print(\"RMSE: \" + str(rmse))"
   ]
  },
  {
   "cell_type": "code",
   "execution_count": null,
   "id": "12da4894",
   "metadata": {},
   "outputs": [],
   "source": [
    "model=DecisionTreeRegressor()\n",
    "model.fit(x_trn,y_trn)\n",
    "predict = model.predict(x_test)\n",
    "mae = mean_absolute_error(y_test, predict)\n",
    "print(\"MAE: \" + str(mae))"
   ]
  },
  {
   "cell_type": "code",
   "execution_count": null,
   "id": "87d7268d",
   "metadata": {},
   "outputs": [],
   "source": [
    "model=DecisionTreeRegressor()\n",
    "model.fit(x_trn,y_trn)\n",
    "predict = model.predict(x_test)\n",
    "acc = acc(predict,y_test)\n",
    "print(\"Accuracy: \" + str(acc))"
   ]
  },
  {
   "cell_type": "code",
   "execution_count": null,
   "id": "4605a326",
   "metadata": {},
   "outputs": [],
   "source": [
    "model=RandomForestRegressor()\n",
    "model.fit(x_trn,y_trn)\n",
    "predict = model.predict(x_test)\n",
    "rmse = sqrt(mean_squared_error(y_test, predict))\n",
    "print(\"RMSE: \" + str(rmse))"
   ]
  },
  {
   "cell_type": "code",
   "execution_count": null,
   "id": "8e5f041b",
   "metadata": {},
   "outputs": [],
   "source": [
    "model=RandomForestRegressor()\n",
    "model.fit(x_trn,y_trn)\n",
    "predict = model.predict(x_test)\n",
    "mae = mean_absolute_error(y_test, predict)\n",
    "print(\"MAE: \" + str(mae))"
   ]
  },
  {
   "cell_type": "code",
   "execution_count": null,
   "id": "c894a3a3",
   "metadata": {},
   "outputs": [],
   "source": [
    "model=RandomForestRegressor()\n",
    "model.fit(x_train,y_train)\n",
    "predict = model.predict(x_test)\n",
    "acc = acc(predict,y_test)\n",
    "print(\"Accuracy: \" + str(acc))"
   ]
  },
  {
   "cell_type": "code",
   "execution_count": null,
   "id": "f72b1cd3",
   "metadata": {},
   "outputs": [],
   "source": [
    "data"
   ]
  },
  {
   "cell_type": "markdown",
   "id": "942049dc",
   "metadata": {},
   "source": [
    "# Modifying Dataset"
   ]
  },
  {
   "cell_type": "code",
   "execution_count": null,
   "id": "570f23ce",
   "metadata": {},
   "outputs": [],
   "source": [
    "data.index = data.index.where(~data.index.duplicated(),data.index + 100000)\n",
    "data"
   ]
  },
  {
   "cell_type": "code",
   "execution_count": null,
   "id": "bb4d4c0b",
   "metadata": {},
   "outputs": [],
   "source": [
    "l = []\n",
    "k = []\n",
    "for j in range(150000):\n",
    "    while data.Number[j]>0:\n",
    "        l.append(data['Number'][j]%10)\n",
    "        data.Number[j]//=10\n",
    "    l.reverse()\n",
    "    k.append(l)\n",
    "    l = []"
   ]
  },
  {
   "cell_type": "code",
   "execution_count": null,
   "id": "300dab47",
   "metadata": {},
   "outputs": [],
   "source": [
    "k = pd.DataFrame(k, columns = [\"Digit 1\",\"Digit 2\",\"Digit 3\",\"Digit 4\",\"Digit 5\",\"Digit 6\"], dtype = int)\n",
    "k.head()"
   ]
  },
  {
   "cell_type": "code",
   "execution_count": null,
   "id": "49dea690",
   "metadata": {},
   "outputs": [],
   "source": [
    "data = pd.concat([data,k],axis =1)"
   ]
  },
  {
   "cell_type": "code",
   "execution_count": null,
   "id": "ac0472d4",
   "metadata": {},
   "outputs": [],
   "source": [
    "data = data.drop(['Number'],axis = 1)\n",
    "data.head()"
   ]
  },
  {
   "cell_type": "markdown",
   "id": "4020fe5f",
   "metadata": {},
   "source": [
    "# ML Models on Modified Dataset"
   ]
  },
  {
   "cell_type": "code",
   "execution_count": null,
   "id": "c6f241ba",
   "metadata": {},
   "outputs": [],
   "source": [
    "ind_columns = [\"Digit 1\", \"Digit 2\", \"Digit 3\",\"Digit 4\",\"Digit 5\",\"Digit 6\"]\n",
    "x = tensor(data[ind_columns].values,dtype = int)\n",
    "dep_columns = [\"Count of digit 0\", \"Count of digit 1\", \"Count of digit 2\", \"Count of digit 3\", \"Count of digit 4\", \"Count of digit 5\", \"Count of digit 6\", \"Count of digit 7\",\"Count of digit 8\",\"Count of digit 9\"]\n",
    "y = tensor(data[dep_columns].values, dtype = int)\n",
    "x.shape"
   ]
  },
  {
   "cell_type": "code",
   "execution_count": null,
   "id": "5a8f40fb",
   "metadata": {},
   "outputs": [],
   "source": [
    "from fast_ml.model_development import train_valid_test_split\n",
    "x_train, y_train, x_val, y_val, x_test, y_test = train_valid_test_split(data, target = [\"Count of digit 0\", \"Count of digit 1\", \"Count of digit 2\", \"Count of digit 3\", \"Count of digit 4\", \"Count of digit 5\", \"Count of digit 6\", \"Count of digit 7\",\"Count of digit 8\",\"Count of digit 9\"], train_size=0.6, valid_size=0.2, test_size=0.2)"
   ]
  },
  {
   "cell_type": "code",
   "execution_count": null,
   "id": "5d0ce913",
   "metadata": {},
   "outputs": [],
   "source": [
    "x_trn = tensor(x_train.values, dtype=int)\n",
    "y_trn = tensor(y_train.values, dtype=int)\n",
    "x_val = tensor(x_val.values, dtype=int)\n",
    "y_val = tensor(y_val.values, dtype=int)\n",
    "x_test = tensor(x_test.values, dtype=int)\n",
    "y_test = tensor(y_test.values, dtype=int)"
   ]
  },
  {
   "cell_type": "code",
   "execution_count": null,
   "id": "34e5aae9",
   "metadata": {},
   "outputs": [],
   "source": [
    "x_trn.shape"
   ]
  },
  {
   "cell_type": "code",
   "execution_count": null,
   "id": "59170950",
   "metadata": {},
   "outputs": [],
   "source": [
    "data.shape"
   ]
  },
  {
   "cell_type": "code",
   "execution_count": null,
   "id": "c4bae2cd",
   "metadata": {},
   "outputs": [],
   "source": [
    "model=DecisionTreeRegressor()\n",
    "model.fit(x_trn,y_trn)\n",
    "predict = model.predict(x_val)\n",
    "rmse = sqrt(mean_squared_error(y_val, predict))\n",
    "print(\"RMSE: \" + str(rmse))"
   ]
  },
  {
   "cell_type": "code",
   "execution_count": null,
   "id": "e9ec63de",
   "metadata": {},
   "outputs": [],
   "source": [
    "model.predict([[9,9,9,9,9,9]]) #[0., 0., 0., 0., 1., 0., 0., 0., 0., 5.]"
   ]
  },
  {
   "cell_type": "code",
   "execution_count": null,
   "id": "5dc31577",
   "metadata": {},
   "outputs": [],
   "source": [
    "model.predict([[9,9,9,9,9,8]]) #[0., 0., 0., 0., 1., 0., 0., 0., 0., 5.]"
   ]
  },
  {
   "cell_type": "code",
   "execution_count": null,
   "id": "ad0017f2",
   "metadata": {},
   "outputs": [],
   "source": [
    "model.predict([[1,0,0,0,0,0]]) #[3., 3., 0., 0., 0., 0., 0., 0., 0., 0.]"
   ]
  },
  {
   "cell_type": "code",
   "execution_count": null,
   "id": "76ed8815",
   "metadata": {},
   "outputs": [],
   "source": [
    "model.predict([[1,0,0,0,0,1]]) #[3., 3., 0., 0., 0., 0., 0., 0., 0., 0.]"
   ]
  },
  {
   "cell_type": "code",
   "execution_count": null,
   "id": "89ec35d6",
   "metadata": {},
   "outputs": [],
   "source": [
    "m = DecisionTreeRegressor(max_leaf_nodes=4).fit(x_train,y_train)\n",
    "display(graphviz.Source(export_graphviz(m)))"
   ]
  },
  {
   "cell_type": "code",
   "execution_count": null,
   "id": "10e8fc36",
   "metadata": {},
   "outputs": [],
   "source": [
    "model.get_n_leaves()"
   ]
  },
  {
   "cell_type": "code",
   "execution_count": null,
   "id": "53a218a7",
   "metadata": {},
   "outputs": [],
   "source": [
    "model=DecisionTreeRegressor()\n",
    "model.fit(x_train,y_train)\n",
    "predict = model.predict(x_val)\n",
    "mae = mean_absolute_error(y_val, predict)\n",
    "print(\"MAE: \" + str(mae))"
   ]
  },
  {
   "cell_type": "code",
   "execution_count": null,
   "id": "54c1143d",
   "metadata": {},
   "outputs": [],
   "source": [
    "model=DecisionTreeRegressor()\n",
    "model.fit(x_train,y_train)\n",
    "predict = model.predict(x_val)\n",
    "acc = acc(predict,y_val)\n",
    "print(\"Accuracy: \" + str(acc))"
   ]
  },
  {
   "cell_type": "code",
   "execution_count": null,
   "id": "34356f3b",
   "metadata": {
    "scrolled": true
   },
   "outputs": [],
   "source": [
    "model=RandomForestRegressor()\n",
    "model.fit(x_train,y_train)\n",
    "predict = model.predict(x_val)\n",
    "rmse = sqrt(mean_squared_error(y_val, predict))\n",
    "print(\"RMSE: \" + str(rmse))"
   ]
  },
  {
   "cell_type": "code",
   "execution_count": null,
   "id": "19d4dd5b",
   "metadata": {},
   "outputs": [],
   "source": [
    "model.predict([[9,9,9,9,9,9]]) #[0.01, 0.13, 0.06, 0.02, 0.01, 0.02, 0.05, 0.51, 0.53, 4.66]"
   ]
  },
  {
   "cell_type": "code",
   "execution_count": null,
   "id": "ce7509c6",
   "metadata": {},
   "outputs": [],
   "source": [
    "model.predict([[9,9,9,9,9,8]]) #[0.01, 0.02, 0.  , 0.05, 0.03, 0.01, 0.03, 0.27, 0.85, 4.73]"
   ]
  },
  {
   "cell_type": "code",
   "execution_count": null,
   "id": "e3f32fbb",
   "metadata": {},
   "outputs": [],
   "source": [
    "model.predict([[1,0,0,0,0,0]]) #[3.1 , 2.09, 0.09, 0.14, 0.04, 0.14, 0.14, 0.06, 0.19, 0.01]"
   ]
  },
  {
   "cell_type": "code",
   "execution_count": null,
   "id": "837e4769",
   "metadata": {
    "scrolled": true
   },
   "outputs": [],
   "source": [
    "model.predict([[1,0,0,0,0,1]]) #[2.89, 2.15, 0.17, 0.14, 0.08, 0.17, 0.09, 0.05, 0.25, 0.01]"
   ]
  },
  {
   "cell_type": "code",
   "execution_count": null,
   "id": "407d79e9",
   "metadata": {
    "scrolled": false
   },
   "outputs": [],
   "source": [
    "model.predict([[1,0,1,0,1,0]]) #[2.82, 2.83, 0.09, 0.02, 0.15, 0.06, 0.02, 0.01, 0.  , 0.  ]"
   ]
  },
  {
   "cell_type": "code",
   "execution_count": null,
   "id": "9ee2b9d6",
   "metadata": {},
   "outputs": [],
   "source": [
    "model.predict([[1,0,0,0,1,1]]) #[1.89, 3.05, 0.45, 0.19, 0.1 , 0.09, 0.08, 0.03, 0.06, 0.06]"
   ]
  },
  {
   "cell_type": "code",
   "execution_count": null,
   "id": "976d8a8c",
   "metadata": {},
   "outputs": [],
   "source": [
    "model=RandomForestRegressor()\n",
    "model.fit(x_trn,y_trn)\n",
    "predict = model.predict(x_val)\n",
    "mae = mean_absolute_error(y_val, predict)\n",
    "print(\"MAE: \" + str(mae))"
   ]
  },
  {
   "cell_type": "code",
   "execution_count": null,
   "id": "a8994b6f",
   "metadata": {
    "scrolled": true
   },
   "outputs": [],
   "source": [
    "model=RandomForestRegressor()\n",
    "model.fit(x_train,y_train)\n",
    "predict = model.predict(x_val)\n",
    "acc = acc(predict,y_val)\n",
    "print(\"Accuracy: \" + str(acc))"
   ]
  },
  {
   "cell_type": "code",
   "execution_count": null,
   "id": "fe7c700e",
   "metadata": {
    "scrolled": true
   },
   "outputs": [],
   "source": [
    "model=DecisionTreeRegressor()\n",
    "model.fit(x_trn,y_trn)\n",
    "predict = model.predict(x_test)\n",
    "rmse = sqrt(mean_squared_error(y_test, predict))\n",
    "print(\"RMSE: \" + str(rmse))"
   ]
  },
  {
   "cell_type": "code",
   "execution_count": null,
   "id": "138c5557",
   "metadata": {},
   "outputs": [],
   "source": [
    "model=DecisionTreeRegressor()\n",
    "model.fit(x_trn,y_trn)\n",
    "predict = model.predict(x_test)\n",
    "mae = mean_absolute_error(y_test, predict)\n",
    "print(\"MAE: \" + str(mae))"
   ]
  },
  {
   "cell_type": "code",
   "execution_count": null,
   "id": "67cb9259",
   "metadata": {},
   "outputs": [],
   "source": [
    "model=DecisionTreeRegressor()\n",
    "model.fit(x_train,y_train)\n",
    "predict = model.predict(x_test)\n",
    "acc = acc(predict,y_test)\n",
    "print(\"Accuracy: \" + str(acc))"
   ]
  },
  {
   "cell_type": "code",
   "execution_count": null,
   "id": "1e32e999",
   "metadata": {},
   "outputs": [],
   "source": [
    "model=RandomForestRegressor()\n",
    "model.fit(x_trn,y_trn)\n",
    "predict = model.predict(x_test)\n",
    "rmse = sqrt(mean_squared_error(y_test, predict))\n",
    "print(\"RMSE: \" + str(rmse))"
   ]
  },
  {
   "cell_type": "code",
   "execution_count": null,
   "id": "c646f074",
   "metadata": {},
   "outputs": [],
   "source": [
    "model=RandomForestRegressor()\n",
    "model.fit(x_trn,y_trn)\n",
    "predict = model.predict(x_test)\n",
    "mae = mean_absolute_error(y_test, predict)\n",
    "print(\"MAE: \" + str(mae))"
   ]
  },
  {
   "cell_type": "code",
   "execution_count": null,
   "id": "a597d3e8",
   "metadata": {},
   "outputs": [],
   "source": [
    "model=RandomForestRegressor()\n",
    "model.fit(x_train,y_train)\n",
    "predict = model.predict(x_test)\n",
    "acc = acc(predict,y_test)\n",
    "print(\"Accuracy: \" + str(acc))"
   ]
  },
  {
   "cell_type": "markdown",
   "id": "f5840259",
   "metadata": {},
   "source": [
    "# FastAI Neural Networks on Dataset"
   ]
  },
  {
   "cell_type": "code",
   "execution_count": null,
   "id": "f8227ddf",
   "metadata": {},
   "outputs": [],
   "source": [
    "import fastai\n",
    "from fastai.tabular.all import *"
   ]
  },
  {
   "cell_type": "code",
   "execution_count": null,
   "id": "0861739b",
   "metadata": {},
   "outputs": [],
   "source": [
    "data = pd.read_csv(\"6D_renew_dataset.csv\")\n",
    "data = data.drop(data.columns[0],axis=1)\n",
    "data"
   ]
  },
  {
   "cell_type": "code",
   "execution_count": null,
   "id": "608002a4",
   "metadata": {
    "scrolled": true
   },
   "outputs": [],
   "source": [
    "test = data[120000:]"
   ]
  },
  {
   "cell_type": "code",
   "execution_count": null,
   "id": "f3da1d95",
   "metadata": {},
   "outputs": [],
   "source": [
    "val = data[90000:120000]"
   ]
  },
  {
   "cell_type": "code",
   "execution_count": null,
   "id": "a627ed62",
   "metadata": {},
   "outputs": [],
   "source": [
    "data = data[:120000]\n",
    "data"
   ]
  },
  {
   "cell_type": "code",
   "execution_count": null,
   "id": "74a2147e",
   "metadata": {},
   "outputs": [],
   "source": [
    "dls = TabularDataLoaders.from_df(\n",
    "    data,\n",
    "    valid_idx=list(range(90000,120000)),\n",
    "    y_block = RegressionBlock(),\n",
    "    procs = [FillMissing],\n",
    "    cat_names=[],\n",
    "    cont_names=['Digit 1','Digit 2','Digit 3','Digit 4','Digit 5','Digit 6'],\n",
    "    y_names=[\"Count of digit 0\",\"Count of digit 1\",\"Count of digit 2\",\"Count of digit 3\",\"Count of digit 4\",\"Count of digit 5\",\"Count of digit 6\",\"Count of digit 7\",\"Count of digit 8\",\"Count of digit 9\"],\n",
    ")"
   ]
  },
  {
   "cell_type": "code",
   "execution_count": null,
   "id": "abe09b06",
   "metadata": {},
   "outputs": [],
   "source": [
    "learn = tabular_learner(dls, metrics = mae,layers = [96,96,96])"
   ]
  },
  {
   "cell_type": "code",
   "execution_count": null,
   "id": "be74b44f",
   "metadata": {},
   "outputs": [],
   "source": [
    "learn.lr_find(suggest_funcs=(slide, valley))"
   ]
  },
  {
   "cell_type": "code",
   "execution_count": null,
   "id": "d124fa34",
   "metadata": {},
   "outputs": [],
   "source": [
    "learn.fit(16, lr = 0.01)"
   ]
  },
  {
   "cell_type": "code",
   "execution_count": null,
   "id": "786bf2aa",
   "metadata": {
    "scrolled": true
   },
   "outputs": [],
   "source": [
    "k = [[9,9,9,9,9,9],[9,9,9,9,9,8],[1,0,0,0,0,0],[1,0,0,0,0,1]]\n",
    "k = pd.DataFrame(k)\n",
    "k.columns = ['Digit 1', 'Digit 2', 'Digit 3', 'Digit 4', 'Digit 5', 'Digit 6']\n",
    "k_dl = learn.dls.test_dl(k[:])"
   ]
  },
  {
   "cell_type": "code",
   "execution_count": null,
   "id": "5aac2285",
   "metadata": {},
   "outputs": [],
   "source": [
    "preds,_ = learn.get_preds(dl = k_dl)\n",
    "preds \n",
    "'''[-1.0588e-01, -2.3421e-03, -6.8278e-02,  1.4742e-01,  1.3011e-01, -2.7354e-01,  2.1875e-01,  6.4381e-02,  4.1770e-01,  5.4656e+00],\n",
    "[-9.1892e-02,  3.5640e-02, -9.9838e-02,  2.1887e-01,  7.8786e-02, -2.4687e-01,  1.5824e-01,  6.6824e-02,  1.4859e+00,  4.3964e+00],\n",
    "[ 4.8722e+00,  1.3100e+00, -3.6380e-01, -2.4701e-02,  5.5381e-02, 3.7043e-02,  1.4470e-01, -4.5752e-02, -8.0818e-04,  2.1115e-02],\n",
    "[ 3.9111e+00,  2.2030e+00, -3.7533e-01,  3.5493e-02,  1.2307e-01, 2.1752e-02,  1.6538e-01, -1.0673e-01, -1.3605e-02,  3.8057e-02]'''"
   ]
  },
  {
   "cell_type": "code",
   "execution_count": null,
   "id": "904c3fe1",
   "metadata": {},
   "outputs": [],
   "source": [
    "data = data[:90000]"
   ]
  },
  {
   "cell_type": "code",
   "execution_count": null,
   "id": "1503b18a",
   "metadata": {},
   "outputs": [],
   "source": [
    "data = pd.concat([data,test],axis=0)\n",
    "data"
   ]
  },
  {
   "cell_type": "code",
   "execution_count": null,
   "id": "1dcfe2bc",
   "metadata": {},
   "outputs": [],
   "source": [
    "dls = TabularDataLoaders.from_df(\n",
    "    data,\n",
    "    valid_idx=list(range(90000,120000)),\n",
    "    y_block = RegressionBlock(),\n",
    "    procs = [FillMissing],\n",
    "    cat_names=[],\n",
    "    cont_names=['Digit 1','Digit 2','Digit 3','Digit 4','Digit 5','Digit 6'],\n",
    "    y_names=[\"Count of digit 0\",\"Count of digit 1\",\"Count of digit 2\",\"Count of digit 3\",\"Count of digit 4\",\"Count of digit 5\",\"Count of digit 6\",\"Count of digit 7\",\"Count of digit 8\",\"Count of digit 9\"],\n",
    ")"
   ]
  },
  {
   "cell_type": "code",
   "execution_count": null,
   "id": "73fe53b1",
   "metadata": {},
   "outputs": [],
   "source": [
    "learn = tabular_learner(dls,metrics= [rmse,mae],layers = [96,96,96])"
   ]
  },
  {
   "cell_type": "code",
   "execution_count": null,
   "id": "ba30b6e6",
   "metadata": {},
   "outputs": [],
   "source": [
    "learn.lr_find(suggest_funcs=(slide, valley))"
   ]
  },
  {
   "cell_type": "code",
   "execution_count": null,
   "id": "abd70bd6",
   "metadata": {},
   "outputs": [],
   "source": [
    "learn.fit(16, lr = 0.01)"
   ]
  },
  {
   "cell_type": "code",
   "execution_count": null,
   "id": "7fad3612",
   "metadata": {},
   "outputs": [],
   "source": [
    "data = data[:90000]"
   ]
  },
  {
   "cell_type": "code",
   "execution_count": null,
   "id": "e40b6073",
   "metadata": {},
   "outputs": [],
   "source": [
    "data = pd.concat([data,val],axis = 0)\n",
    "data"
   ]
  },
  {
   "cell_type": "code",
   "execution_count": null,
   "id": "6bb61242",
   "metadata": {},
   "outputs": [],
   "source": [
    "dls = TabularDataLoaders.from_df(\n",
    "    data,\n",
    "    valid_idx=list(range(90000,120000)),\n",
    "    y_block = RegressionBlock(),\n",
    "    procs = [FillMissing],\n",
    "    cat_names=[],\n",
    "    cont_names=['Digit 1','Digit 2','Digit 3','Digit 4','Digit 5','Digit 6'],\n",
    "    y_names=[\"Count of digit 0\",\"Count of digit 1\",\"Count of digit 2\",\"Count of digit 3\",\"Count of digit 4\",\"Count of digit 5\",\"Count of digit 6\",\"Count of digit 7\",\"Count of digit 8\",\"Count of digit 9\"],\n",
    ")"
   ]
  },
  {
   "cell_type": "code",
   "execution_count": null,
   "id": "08e6693c",
   "metadata": {},
   "outputs": [],
   "source": [
    "learn = tabular_learner(\n",
    "    dls, \n",
    "    layers = [96,96,96], \n",
    "    emb_szs = [[10,100],[10,100],[10,100],[10,100],[10,100],[10,100]], \n",
    "    metrics = mae\n",
    ")"
   ]
  },
  {
   "cell_type": "code",
   "execution_count": null,
   "id": "0be825f1",
   "metadata": {},
   "outputs": [],
   "source": [
    "learn.lr_find(suggest_funcs=(slide, valley))"
   ]
  },
  {
   "cell_type": "code",
   "execution_count": null,
   "id": "5f44b5cd",
   "metadata": {},
   "outputs": [],
   "source": [
    "learn.fit(16, lr = 0.01)"
   ]
  },
  {
   "cell_type": "code",
   "execution_count": null,
   "id": "7b6a3b66",
   "metadata": {},
   "outputs": [],
   "source": [
    "preds,_ = learn.get_preds(dl = k_dl)\n",
    "preds \n"
   ]
  },
  {
   "cell_type": "code",
   "execution_count": null,
   "id": "dc3ceddb",
   "metadata": {},
   "outputs": [],
   "source": [
    "data = data[:90000]\n",
    "data = pd.concat([data,test],axis = 0)\n",
    "data"
   ]
  },
  {
   "cell_type": "code",
   "execution_count": null,
   "id": "978433a2",
   "metadata": {},
   "outputs": [],
   "source": [
    "dls = TabularDataLoaders.from_df(\n",
    "    data,\n",
    "    valid_idx=list(range(90000,120000)),\n",
    "    y_block = RegressionBlock(),\n",
    "    procs = [FillMissing],\n",
    "    cat_names=[],\n",
    "    cont_names=['Digit 1','Digit 2','Digit 3','Digit 4','Digit 5','Digit 6'],\n",
    "    y_names=[\"Count of digit 0\",\"Count of digit 1\",\"Count of digit 2\",\"Count of digit 3\",\"Count of digit 4\",\"Count of digit 5\",\"Count of digit 6\",\"Count of digit 7\",\"Count of digit 8\",\"Count of digit 9\"],\n",
    ")"
   ]
  },
  {
   "cell_type": "code",
   "execution_count": null,
   "id": "7b9cd931",
   "metadata": {},
   "outputs": [],
   "source": [
    "learn.lr_find(suggest_funcs=(slide, valley))"
   ]
  },
  {
   "cell_type": "code",
   "execution_count": null,
   "id": "e9cba021",
   "metadata": {},
   "outputs": [],
   "source": [
    "learn.fit(16, lr = 0.01)"
   ]
  },
  {
   "cell_type": "code",
   "execution_count": null,
   "id": "0eccf0a2",
   "metadata": {},
   "outputs": [],
   "source": [
    "k = [[9,9,9,9,9,9],[9,9,9,8,9,9],[9,8,9,9,8,9],[1,0,0,0,0,0],[1,0,1,0,0,0],[1,0,1,0,1,0],[1,0,0,0,1,1]]\n",
    "k = pd.DataFrame(k)"
   ]
  },
  {
   "cell_type": "code",
   "execution_count": null,
   "id": "b584baaa",
   "metadata": {},
   "outputs": [],
   "source": [
    "data.info()"
   ]
  },
  {
   "cell_type": "code",
   "execution_count": null,
   "id": "32c2d627",
   "metadata": {},
   "outputs": [],
   "source": [
    "learn.fit(16, lr = 0.00001)"
   ]
  },
  {
   "cell_type": "code",
   "execution_count": null,
   "id": "5b7fadb7",
   "metadata": {},
   "outputs": [],
   "source": [
    "data= data[:90000]\n",
    "data = pd.concat([data,val],axis = 0)\n",
    "data"
   ]
  },
  {
   "cell_type": "code",
   "execution_count": null,
   "id": "8affaab7",
   "metadata": {},
   "outputs": [],
   "source": [
    "test_dl = learn.dls.test_dl(test)"
   ]
  },
  {
   "cell_type": "code",
   "execution_count": null,
   "id": "7df80cbc",
   "metadata": {},
   "outputs": [],
   "source": [
    "preds,_ = learn.get_preds(dl = test_dl)"
   ]
  },
  {
   "cell_type": "code",
   "execution_count": null,
   "id": "d458ee04",
   "metadata": {},
   "outputs": [],
   "source": [
    "test.iloc[0][0]"
   ]
  },
  {
   "cell_type": "code",
   "execution_count": null,
   "id": "9b312d66",
   "metadata": {},
   "outputs": [],
   "source": [
    "len(preds)"
   ]
  },
  {
   "cell_type": "code",
   "execution_count": null,
   "id": "042246ae",
   "metadata": {},
   "outputs": [],
   "source": [
    "acc(preds,val)"
   ]
  },
  {
   "cell_type": "code",
   "execution_count": null,
   "id": "30cb43a8",
   "metadata": {},
   "outputs": [],
   "source": [
    "dls = TabularDataLoaders.from_df(\n",
    "    data,\n",
    "    valid_idx=list(range(90000,120000)),\n",
    "    y_block = RegressionBlock(),\n",
    "    procs = [FillMissing],\n",
    "    cat_names=[],\n",
    "    cont_names=['Digit 1','Digit 2','Digit 3','Digit 4','Digit 5','Digit 6'],\n",
    "    y_names=[\"Count of digit 0\",\"Count of digit 1\",\"Count of digit 2\",\"Count of digit 3\",\"Count of digit 4\",\"Count of digit 5\",\"Count of digit 6\",\"Count of digit 7\",\"Count of digit 8\",\"Count of digit 9\"],\n",
    ")"
   ]
  },
  {
   "cell_type": "code",
   "execution_count": null,
   "id": "e8ff86ee",
   "metadata": {},
   "outputs": [],
   "source": [
    "learn.fit(16, lr = 0.00001)"
   ]
  },
  {
   "cell_type": "code",
   "execution_count": null,
   "id": "3e2ce1b7",
   "metadata": {},
   "outputs": [],
   "source": [
    "learn = tabular_learner(\n",
    "    dls, \n",
    "    layers = [96,96,96], \n",
    "    emb_szs = [[10,100],[10,100],[10,100],[10,100],[10,100],[10,100]], \n",
    "    metrics = [rmse,mae]\n",
    ")"
   ]
  },
  {
   "cell_type": "code",
   "execution_count": null,
   "id": "42d994b1",
   "metadata": {},
   "outputs": [],
   "source": [
    "learn.fit(16, lr = 0.01)"
   ]
  },
  {
   "cell_type": "code",
   "execution_count": null,
   "id": "50133a2d",
   "metadata": {},
   "outputs": [],
   "source": [
    "val_dl = learn.dls.test_dl(val)"
   ]
  },
  {
   "cell_type": "code",
   "execution_count": null,
   "id": "1ca5f4f5",
   "metadata": {},
   "outputs": [],
   "source": [
    "preds,_ = learn.get_preds(dl = val_dl)"
   ]
  },
  {
   "cell_type": "code",
   "execution_count": null,
   "id": "1d88cecd",
   "metadata": {},
   "outputs": [],
   "source": [
    "acc(preds,val)"
   ]
  },
  {
   "cell_type": "code",
   "execution_count": null,
   "id": "303e5b84",
   "metadata": {},
   "outputs": [],
   "source": [
    "learn = tabular_learner(dls,metrics= [rmse,mae],layers = [96,96,96])"
   ]
  },
  {
   "cell_type": "code",
   "execution_count": null,
   "id": "491a4e4e",
   "metadata": {},
   "outputs": [],
   "source": [
    "k = pd.DataFrame(learn.fit(16, lr = 0.01))\n",
    "k"
   ]
  },
  {
   "cell_type": "code",
   "execution_count": null,
   "id": "e064cd84",
   "metadata": {},
   "outputs": [],
   "source": [
    "val_dl = learn.dls.test_dl(val)"
   ]
  },
  {
   "cell_type": "code",
   "execution_count": null,
   "id": "ea37ec49",
   "metadata": {},
   "outputs": [],
   "source": [
    "preds,_ = learn.get_preds(dl = val_dl)"
   ]
  },
  {
   "cell_type": "code",
   "execution_count": null,
   "id": "c0ce8744",
   "metadata": {},
   "outputs": [],
   "source": [
    "acc(preds,val)"
   ]
  },
  {
   "cell_type": "code",
   "execution_count": null,
   "id": "3706edd7",
   "metadata": {},
   "outputs": [],
   "source": [
    "preds.shape"
   ]
  },
  {
   "cell_type": "code",
   "execution_count": null,
   "id": "5a1a6423",
   "metadata": {},
   "outputs": [],
   "source": [
    "import matplotlib.pyplot as plt"
   ]
  },
  {
   "cell_type": "code",
   "execution_count": null,
   "id": "7e92e01c",
   "metadata": {},
   "outputs": [],
   "source": [
    "t = {\"Validation MSE\":[0.034343,0.031105,0.035719,0.036239,0.028646,0.024360,0.026583,0.022351,\n",
    "                       0.031802,0.039907,0.063389,0.032644,0.026853,0.030224,0.026288,0.032569],\n",
    "     \"No. of Epochs\":[1,2,3,4,5,6,7,8,9,10,11,12,13,14,15,16]}"
   ]
  },
  {
   "cell_type": "code",
   "execution_count": null,
   "id": "057c9268",
   "metadata": {},
   "outputs": [],
   "source": [
    "t = pd.DataFrame(t)\n",
    "t"
   ]
  },
  {
   "cell_type": "code",
   "execution_count": null,
   "id": "56dc5843",
   "metadata": {},
   "outputs": [],
   "source": [
    "plt.plot(t['No. of Epochs'],t['Validation MSE'])\n",
    "plt.xlabel(\"No. of Epochs\")\n",
    "plt.ylabel(\"Validation MSE\")\n",
    "plt.title(\"6 Digit Loss Curve w/o Embedding\")\n",
    "plt.show()  "
   ]
  },
  {
   "cell_type": "code",
   "execution_count": null,
   "id": "b2ff6821",
   "metadata": {},
   "outputs": [],
   "source": [
    "data= data[:90000]\n",
    "data = pd.concat([data,val],axis = 0)"
   ]
  },
  {
   "cell_type": "code",
   "execution_count": null,
   "id": "8a0ba298",
   "metadata": {},
   "outputs": [],
   "source": [
    "dls = TabularDataLoaders.from_df(\n",
    "    data,\n",
    "    valid_idx=list(range(90000,120000)),\n",
    "    y_block = RegressionBlock(),\n",
    "    procs = [FillMissing],\n",
    "    cat_names=[],\n",
    "    cont_names=['Digit 1','Digit 2','Digit 3','Digit 4','Digit 5','Digit 6'],\n",
    "    y_names=[\"Count of digit 0\",\"Count of digit 1\",\"Count of digit 2\",\"Count of digit 3\",\"Count of digit 4\",\"Count of digit 5\",\"Count of digit 6\",\"Count of digit 7\",\"Count of digit 8\",\"Count of digit 9\"],\n",
    ")"
   ]
  },
  {
   "cell_type": "code",
   "execution_count": null,
   "id": "e34fa7e4",
   "metadata": {},
   "outputs": [],
   "source": [
    "learn = tabular_learner(\n",
    "    dls, \n",
    "    layers = [96,96,96], \n",
    "    emb_szs = [[10,100],[10,100],[10,100],[10,100],[10,100],[10,100]], \n",
    "    metrics = [rmse,mae]\n",
    ")"
   ]
  },
  {
   "cell_type": "code",
   "execution_count": null,
   "id": "8cf37493",
   "metadata": {},
   "outputs": [],
   "source": [
    "learn.fit(16, lr = 0.01)"
   ]
  },
  {
   "cell_type": "code",
   "execution_count": null,
   "id": "a98df0dd",
   "metadata": {},
   "outputs": [],
   "source": [
    "t = {\"Validation MSE\":[0.118394,0.066273,0.045887,0.038617,0.042682,0.033288,0.038053,0.029554,0.024736,0.035247,0.029871,\n",
    "                      0.031541,0.032316,0.035586,0.030244,0.035320],\n",
    "     \"No. of Epochs\":[1,2,3,4,5,6,7,8,9,10,11,12,13,14,15,16]}"
   ]
  },
  {
   "cell_type": "code",
   "execution_count": null,
   "id": "42828791",
   "metadata": {},
   "outputs": [],
   "source": [
    "plt.plot(t['No. of Epochs'],t['Validation MSE'])\n",
    "plt.xlabel(\"No. of Epochs\")\n",
    "plt.ylabel(\"Validation MSE\")\n",
    "plt.title(\"6 Digit Loss Curve with Embedding\")\n",
    "plt.show()  "
   ]
  },
  {
   "cell_type": "code",
   "execution_count": null,
   "id": "5670acda",
   "metadata": {},
   "outputs": [],
   "source": [
    "data = pd.concat([data,test],axis=0)\n",
    "data"
   ]
  },
  {
   "cell_type": "code",
   "execution_count": null,
   "id": "c4b381a4",
   "metadata": {},
   "outputs": [],
   "source": [
    "data.to_csv(\"6D_renew_dataset.csv\")"
   ]
  },
  {
   "cell_type": "code",
   "execution_count": null,
   "id": "4a27842f",
   "metadata": {},
   "outputs": [],
   "source": [
    "data = data[:90000]\n",
    "data = pd.concat([data,test], axis = 0)"
   ]
  },
  {
   "cell_type": "code",
   "execution_count": null,
   "id": "0e13eacb",
   "metadata": {},
   "outputs": [],
   "source": [
    "data"
   ]
  },
  {
   "cell_type": "code",
   "execution_count": null,
   "id": "8c9f1f46",
   "metadata": {},
   "outputs": [],
   "source": [
    "dls = TabularDataLoaders.from_df(\n",
    "    data,\n",
    "    valid_idx=list(range(90000,120000)),\n",
    "    y_block = RegressionBlock(),\n",
    "    procs = [FillMissing],\n",
    "    cat_names=[],\n",
    "    cont_names=['Digit 1','Digit 2','Digit 3','Digit 4','Digit 5','Digit 6'],\n",
    "    y_names=[\"Count of digit 0\",\"Count of digit 1\",\"Count of digit 2\",\"Count of digit 3\",\"Count of digit 4\",\"Count of digit 5\",\"Count of digit 6\",\"Count of digit 7\",\"Count of digit 8\",\"Count of digit 9\"],\n",
    ")"
   ]
  },
  {
   "cell_type": "code",
   "execution_count": null,
   "id": "75e55ce9",
   "metadata": {},
   "outputs": [],
   "source": [
    "learn = tabular_learner(dls, layers = [96,96,96], metrics = [rmse,mae])"
   ]
  },
  {
   "cell_type": "code",
   "execution_count": null,
   "id": "b48c0e92",
   "metadata": {},
   "outputs": [],
   "source": [
    "learn.fit(16, lr = 0.01)"
   ]
  },
  {
   "cell_type": "code",
   "execution_count": null,
   "id": "f50fc3dd",
   "metadata": {},
   "outputs": [],
   "source": [
    "test_dl = learn.dls.test_dl(test)\n",
    "preds,_ = learn.get_preds(dl = test_dl) \n",
    "acc(preds,test)"
   ]
  },
  {
   "cell_type": "code",
   "execution_count": null,
   "id": "8e62f65a",
   "metadata": {},
   "outputs": [],
   "source": [
    "learn = tabular_learner(\n",
    "    dls, \n",
    "    layers = [96,96,96], \n",
    "    emb_szs = [[10,100],[10,100],[10,100],[10,100],[10,100],[10,100]], \n",
    "    metrics = [rmse,mae]\n",
    ")"
   ]
  },
  {
   "cell_type": "code",
   "execution_count": null,
   "id": "d2bd8272",
   "metadata": {},
   "outputs": [],
   "source": [
    "learn.fit(16, lr = 0.01)"
   ]
  },
  {
   "cell_type": "code",
   "execution_count": null,
   "id": "c14626e3",
   "metadata": {},
   "outputs": [],
   "source": [
    "test_dl = learn.dls.test_dl(test)\n",
    "preds,_ = learn.get_preds(dl = test_dl) \n",
    "acc(preds,test)"
   ]
  },
  {
   "cell_type": "code",
   "execution_count": null,
   "id": "0aadf21b",
   "metadata": {},
   "outputs": [],
   "source": []
  }
 ],
 "metadata": {
  "kernelspec": {
   "display_name": "Python 3 (ipykernel)",
   "language": "python",
   "name": "python3"
  },
  "language_info": {
   "codemirror_mode": {
    "name": "ipython",
    "version": 3
   },
   "file_extension": ".py",
   "mimetype": "text/x-python",
   "name": "python",
   "nbconvert_exporter": "python",
   "pygments_lexer": "ipython3",
   "version": "3.9.13"
  }
 },
 "nbformat": 4,
 "nbformat_minor": 5
}
